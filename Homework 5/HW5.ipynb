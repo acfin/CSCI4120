{
 "cells": [
  {
   "cell_type": "markdown",
   "metadata": {},
   "source": [
    "# Homework 5 RF Accuracy Improvement\n",
    "\n",
    "This assignment is inspired by examples of Shan-Hung Wu from National Tsing Hua University.\n",
    "\n",
    "Requirement: improve the accuracy per feature of the following code from 0.03 up to at least 0.45 and accuracy should be more than 0.92\n",
    "\n",
    "Here are three hints:\n",
    "\n",
    "    You can improve the ratio by picking out or \"creating\" several features.\n",
    "    Tune hyperparameters\n",
    "    The ratio can be improved from 0.03 up to 0.47."
   ]
  },
  {
   "cell_type": "code",
   "execution_count": null,
   "metadata": {
    "scrolled": true
   },
   "outputs": [],
   "source": [
    "from sklearn.model_selection import cross_val_score, train_test_split\n",
    "from sklearn.datasets import load_breast_cancer\n",
    "from sklearn.metrics import accuracy_score\n",
    "from sklearn.ensemble import RandomForestClassifier\n",
    "from sklearn.feature_selection import SelectKBest, chi2\n",
    "from sklearn.model_selection import RandomizedSearchCV\n",
    "from sklearn.feature_selection import RFE\n",
    "from sklearn.metrics import accuracy_score\n",
    "from scipy.stats import uniform\n",
    "import numpy as np\n",
    "\n",
    "# load the breast_cancer dataset\n",
    "init_data = load_breast_cancer()\n",
    "(X, y) = load_breast_cancer(return_X_y=True)\n",
    "\n",
    "# TODO Select some features (X), hint: based on the connections with our Y (importance? correlation?)\n",
    "\n",
    "# TODO need 5 fold cross validation\n",
    "\n",
    "from sklearn.inspection import permutation_importance\n",
    "\n",
    "rf_classifier = RandomForestClassifier()\n",
    "rf_classifier.fit(X,y)\n",
    "result = permutation_importance(rf_classifier, X, y, n_repeats=30, random_state=42)\n",
    "importances = result.importances_mean\n",
    "top_k_indices = np.argsort(importances)[-k:]\n",
    "X = X[:, top_k_indices]\n",
    "\n",
    "param_dist = {\n",
    "    'n_estimators': [10,50,100,200,300],\n",
    "    'criterion': ['gini', 'entropy'],\n",
    "    'max_depth': [None, 10, 20, 30, 40, 50],\n",
    "    'min_samples_split': [2, 5, 10],\n",
    "    'min_samples_leaf': [1, 2, 4],\n",
    "    'max_features': ['auto', 'sqrt', 'log2', None],\n",
    "    'bootstrap': [True, False],\n",
    "    'class_weight': [None, 'balanced', 'balanced_subsample']\n",
    "}\n",
    "\n",
    "randm_src = RandomizedSearchCV(\n",
    "    rf_classifier,      # The Lasso model\n",
    "    param_distributions=param_dist,\n",
    "    cv=5\n",
    ")\n",
    "randm_src.fit(X, y)\n",
    "\n",
    "print(randm_src.best_params_)\n",
    "print(randm_src.best_score_)\n",
    "\n",
    "\n",
    "cv_scores = cross_val_score(RandomForestClassifier(**randm_src.best_params_), X, y, cv=5)\n",
    "\n",
    "\n",
    "# TODO Calculate Average accuracy score\n",
    "average_accuracy = np.mean(cv_scores)\n",
    "\n",
    "# TODO Calculate Average (accuracy score/number of features)\n",
    "average_accuracy_per_feature = average_accuracy / X.shape[1]\n",
    "\n",
    "# Print the results\n",
    "print(\"Average Accuracy: {:.2f}%\".format(average_accuracy * 100))\n",
    "print(\"Average Accuracy per Feature: {:.2f}%\".format(average_accuracy_per_feature * 100))\n"
   ]
  },
  {
   "cell_type": "code",
   "execution_count": null,
   "metadata": {},
   "outputs": [],
   "source": []
  },
  {
   "cell_type": "code",
   "execution_count": null,
   "metadata": {},
   "outputs": [],
   "source": []
  }
 ],
 "metadata": {
  "kernelspec": {
   "display_name": "Python 3 (ipykernel)",
   "language": "python",
   "name": "python3"
  },
  "language_info": {
   "codemirror_mode": {
    "name": "ipython",
    "version": 3
   },
   "file_extension": ".py",
   "mimetype": "text/x-python",
   "name": "python",
   "nbconvert_exporter": "python",
   "pygments_lexer": "ipython3",
   "version": "3.9.1"
  }
 },
 "nbformat": 4,
 "nbformat_minor": 2
}
